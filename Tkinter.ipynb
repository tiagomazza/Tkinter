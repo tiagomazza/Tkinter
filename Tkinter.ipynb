{
 "cells": [
  {
   "cell_type": "code",
   "execution_count": 15,
   "id": "cdae9e30-67a4-4764-89c6-62c0a3a85fe5",
   "metadata": {},
   "outputs": [],
   "source": [
    "#Criar janela\n",
    "from tkinter import *   \n",
    "janela = Tk()\n",
    "janela.mainloop()"
   ]
  },
  {
   "cell_type": "code",
   "execution_count": 13,
   "id": "c0e5550a-215e-4429-a994-1dfb63a5c8e4",
   "metadata": {},
   "outputs": [],
   "source": [
    "#customização\n",
    "\n",
    "from tkinter import *        \n",
    "from PIL import ImageTk, Image\n",
    "\n",
    "app_root = Tk() #argumento OBRIGATORIO que vai ser janela\n",
    "\n",
    "app_root.title(\"Minha janela\") #titulo da janela\n",
    "app_root.iconbitmap('ico.ico') #icone da janela\n",
    "\n",
    "app_root.mainloop() #argumento OBRIGATÓRIO basico para janela se manter aberta"
   ]
  },
  {
   "cell_type": "code",
   "execution_count": 16,
   "id": "022cad0d-1045-48b9-b588-2d5741ae9d60",
   "metadata": {},
   "outputs": [],
   "source": [
    "# Criar GUI\n",
    "import tkinter as tk\n",
    "\n",
    "\n",
    "window = tk.Tk()\n",
    "label_name = tk.Label(text =\"texto na janela\")\n",
    "label_name.grid(column=1,row=0)\n",
    "button_name = tk.Button(window, text = \"texto do botão\")\n",
    "button_name.grid(column=1,row=1)\n",
    "window.mainloop()\n",
    "\n"
   ]
  },
  {
   "cell_type": "code",
   "execution_count": 54,
   "id": "4212842b-0dff-4a8c-b785-b2d9a1e25d9a",
   "metadata": {},
   "outputs": [],
   "source": [
    "#criar botão com ação de alteração\n",
    "import tkinter as tk\n",
    "from tkinter import ttk\n",
    "\n",
    "textoV3 =\"alterado2\"\n",
    "def alterarVariavel():\n",
    "    global textov3\n",
    "    paraAlterar.config(text = textoV3)\n",
    "    button_name.config(text = textoV3)\n",
    "    \n",
    "    \n",
    "variavel2 =\"alterado1\"\n",
    "window = tk.Tk()\n",
    "window.title(\"Minha primeira janela com o Tkinter\")\n",
    "label_name = tk.Label(text =\"texto na janela\")\n",
    "label_name.grid(column=1,row=0)\n",
    "button_name = tk.Button(window, text =\"Texto do botão\", command = alterarVariavel ) #chama uma função\n",
    "button_name.grid(column=1,row=1)\n",
    "paraAlterar = tk.Label(text =variavel2)\n",
    "paraAlterar.grid(column=1,row=2)\n",
    "\n",
    "window.mainloop()"
   ]
  },
  {
   "cell_type": "code",
   "execution_count": 46,
   "id": "6a6caeb4-12b9-4ca5-9933-9bd875787663",
   "metadata": {},
   "outputs": [],
   "source": [
    "from tkinter import *        \n",
    "from PIL import ImageTk, Image\n",
    "\n",
    "app_root = Tk() #oque vai ser janela\n",
    "app_root.title(\"Minha janela\") #titulo da janela\n",
    "app_root.iconbitmap('ico.ico') #icone da janela\n",
    "\n",
    "label_name = tk.Label(text =\"texto na janela\")\n",
    "label_name.grid(column=1,row=2)\n",
    "img = ImageTk.PhotoImage(Image.open(\"ico.png\")) #foto que aparece \n",
    "imglabel = Label(app_root, image=img).grid(row=1, column=1)        \n",
    "\n",
    "app_root.mainloop() #argumento basico para janela se manter aberta"
   ]
  },
  {
   "cell_type": "code",
   "execution_count": 47,
   "id": "ac951b4b-5150-4f32-a2cd-bace785b40a5",
   "metadata": {},
   "outputs": [],
   "source": [
    "from tkinter import *\n",
    "from tkinter import ttk\n",
    "root = Tk()\n",
    "frm = ttk.Frame(root, padding=10)\n",
    "frm.grid()\n",
    "ttk.Label(frm, text=\"Hello World!\").grid(column=0, row=0)\n",
    "ttk.Button(frm, text=\"Quit\", command=root.destroy).grid(column=1, row=0)\n",
    "root.mainloop()"
   ]
  },
  {
   "cell_type": "code",
   "execution_count": 29,
   "id": "5d4a04b9-6642-4f90-8360-0538a7fdd33e",
   "metadata": {},
   "outputs": [
    {
     "name": "stdout",
     "output_type": "stream",
     "text": [
      "Hello World\n",
      "Hello World\n",
      "Hello World\n"
     ]
    }
   ],
   "source": [
    "#botão\n",
    "\n",
    "from tkinter import *\n",
    "\n",
    "def set():\n",
    "    print(\"Hello World\")\n",
    "\n",
    "root = Tk()\n",
    "root.geometry(\"200x150\")\n",
    "\n",
    "frame = Frame(root)\n",
    "frame.pack()\n",
    "button = Button(frame, text = \"Button1\", command = set,\n",
    "                fg = \"red\", font = \"Verdana 14 underline\",\n",
    "                bd = 2, bg = \"light blue\", relief = \"groove\")\n",
    "button.pack(pady = 5)\n",
    "\n",
    "root.mainloop()"
   ]
  },
  {
   "cell_type": "code",
   "execution_count": 30,
   "id": "8e1ff6c3-2027-4c10-bb60-89ba1a721112",
   "metadata": {},
   "outputs": [],
   "source": [
    "#entrada\n",
    "from tkinter import *\n",
    "\n",
    "root = Tk()\n",
    "root.geometry(\"200x150\")\n",
    "\n",
    "frame = Frame(root)\n",
    "frame.pack()\n",
    "\n",
    "my_entry = Entry(frame, width = 20)\n",
    "my_entry.insert(0,'Username')\n",
    "my_entry.pack(padx = 5, pady = 5)\n",
    "\n",
    "my_entry2 = Entry(frame, width = 15)\n",
    "my_entry2.insert(0,'password')\n",
    "my_entry2.pack(padx = 5, pady = 5)\n",
    "\n",
    "root.mainloop()"
   ]
  },
  {
   "cell_type": "code",
   "execution_count": 38,
   "id": "38e816e5-4336-4d85-a868-043ece0bacea",
   "metadata": {},
   "outputs": [
    {
     "name": "stdout",
     "output_type": "stream",
     "text": [
      "teste\n",
      "teste\n",
      "teste\n"
     ]
    }
   ],
   "source": [
    "#menu superior\n",
    "from tkinter import *\n",
    "\n",
    "def save():\n",
    "    print (\"teste\")\n",
    "    pass\n",
    "\n",
    "def load():\n",
    "    #Code to be written\n",
    "    pass    \n",
    "\n",
    "root = Tk()\n",
    "root.geometry(\"200x150\")\n",
    "frame = Frame(root)\n",
    "frame.pack()\n",
    "\n",
    "mainmenu = Menu(frame)\n",
    "mainmenu.add_command(label = \"Save\", command= save)  \n",
    "mainmenu.add_command(label = \"Load\", command= load)\n",
    "mainmenu.add_command(label = \"Exit\", command= root.destroy)\n",
    "\n",
    "root.config(menu = mainmenu)\n",
    "\n",
    "root.mainloop()"
   ]
  },
  {
   "cell_type": "code",
   "execution_count": 37,
   "id": "23da604b-c383-4659-8270-ebd233d904b7",
   "metadata": {},
   "outputs": [],
   "source": [
    "\n",
    "from tkinter import *\n",
    "\n",
    "root = Tk()\n",
    "\n",
    "frame=Frame(root,width=300,height=300)\n",
    "frame.pack(expand = True, fill=BOTH)\n",
    "\n",
    "canvas = Canvas(frame,bg='white', width = 300,height = 300)\n",
    "\n",
    "coordinates = 20, 50, 210, 230\n",
    "arc = canvas.create_arc(coordinates, start=0, extent=250, fill=\"orange\")\n",
    "arc = canvas.create_arc(coordinates, start=250, extent=50, fill=\"red\")\n",
    "arc = canvas.create_arc(coordinates, start=300, extent=60, fill=\"yellow\")\n",
    "\n",
    "canvas.pack(expand = True, fill = BOTH)\n",
    "\n",
    "root.mainloop()"
   ]
  },
  {
   "cell_type": "code",
   "execution_count": 56,
   "id": "10b651db-1827-4795-8d4c-1617fd31973e",
   "metadata": {},
   "outputs": [],
   "source": [
    "\n",
    "def show_entry_fields():\n",
    "    print(\"First Name: %s\\nLast Name: %s\" % (e1.get(), e2.get()))\n",
    "\n",
    "master = tk.Tk()\n",
    "tk.Label(master, \n",
    "         text=\"First Name\").grid(row=0)\n",
    "tk.Label(master, \n",
    "         text=\"Last Name\").grid(row=1)\n",
    "\n",
    "e1 = tk.Entry(master)\n",
    "e2 = tk.Entry(master)\n",
    "\n",
    "e1.grid(row=0, column=1)\n",
    "e2.grid(row=1, column=1)\n",
    "\n",
    "tk.Button(master, \n",
    "          text='Quit', \n",
    "          command=master.quit).grid(row=3, \n",
    "                                    column=0, \n",
    "                                    sticky=tk.W, \n",
    "                                    pady=4)\n",
    "tk.Button(master, \n",
    "          text='Show', command=show_entry_fields).grid(row=3, \n",
    "                                                       column=1, \n",
    "                                                       sticky=tk.W, \n",
    "                                                       pady=4)\n",
    "\n",
    "tk.mainloop()"
   ]
  },
  {
   "cell_type": "code",
   "execution_count": 15,
   "id": "5cf8cd45-4c05-4a05-a5ab-c68a228507eb",
   "metadata": {},
   "outputs": [
    {
     "name": "stdout",
     "output_type": "stream",
     "text": [
      "\n",
      "First Name: Tiago\n",
      "Last Name: Mazza\n"
     ]
    }
   ],
   "source": [
    "\n",
    "import tkinter as tk\n",
    "Nome = \"00\"\n",
    "\n",
    "def show_entry_fields():\n",
    "    global Nome\n",
    "    print(\"First Name: %s\\nLast Name: %s\" % (e1.get(), e2.get()))\n",
    "    Variavel_texto.config(text = Nome )\n",
    "        \n",
    "\n",
    "master = tk.Tk()\n",
    "tk.Label(master, \n",
    "         text=\"First Name\").grid(row=0)\n",
    "tk.Label(master, \n",
    "         text=\"Last Name\").grid(row=1)\n",
    "\n",
    "impresso =\"XX\"\n",
    "e1 = tk.Entry(master)\n",
    "e2 = tk.Entry(master)\n",
    "\n",
    "e1.grid(row=0, column=1)\n",
    "e2.grid(row=1, column=1)\n",
    "\n",
    "tk.Button(master, \n",
    "          text='Quit', \n",
    "          command=master.destroy).grid(row=3, \n",
    "                                    column=0, \n",
    "                                    sticky=tk.W, \n",
    "                                    pady=4)\n",
    "tk.Button(master, \n",
    "          text='Show', command=show_entry_fields).grid(row=3, \n",
    "                                                       column=1, \n",
    "                                                       sticky=tk.W, \n",
    "                                                       pady=4)\n",
    "\n",
    "Variavel_texto = tk.Label(master, text =impresso)\n",
    "Variavel_texto.grid(row=4)\n",
    "print (e3)\n",
    "\n",
    "tk.mainloop()"
   ]
  },
  {
   "cell_type": "code",
   "execution_count": null,
   "id": "f2115182-71be-4eb7-9fc4-73d4cd05ebd6",
   "metadata": {},
   "outputs": [],
   "source": []
  },
  {
   "cell_type": "code",
   "execution_count": null,
   "id": "59b545a8-d608-4a03-be37-a29ce685bb69",
   "metadata": {},
   "outputs": [],
   "source": []
  }
 ],
 "metadata": {
  "kernelspec": {
   "display_name": "Python 3 (ipykernel)",
   "language": "python",
   "name": "python3"
  },
  "language_info": {
   "codemirror_mode": {
    "name": "ipython",
    "version": 3
   },
   "file_extension": ".py",
   "mimetype": "text/x-python",
   "name": "python",
   "nbconvert_exporter": "python",
   "pygments_lexer": "ipython3",
   "version": "3.11.4"
  }
 },
 "nbformat": 4,
 "nbformat_minor": 5
}
